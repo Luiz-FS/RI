{
 "cells": [
  {
   "cell_type": "code",
   "execution_count": 2,
   "metadata": {
    "scrolled": true
   },
   "outputs": [],
   "source": [
    "import pandas as pd\n",
    "import nltk"
   ]
  },
  {
   "cell_type": "code",
   "execution_count": 3,
   "metadata": {},
   "outputs": [],
   "source": [
    "dados = pd.read_csv('data/noticias_estadao.csv')"
   ]
  },
  {
   "cell_type": "code",
   "execution_count": 4,
   "metadata": {},
   "outputs": [],
   "source": [
    "materias = dados.titulo + \" \" + dados.conteudo\n",
    "ids = dados.idNoticia"
   ]
  },
  {
   "cell_type": "code",
   "execution_count": 5,
   "metadata": {},
   "outputs": [],
   "source": [
    "tokens = materias.apply(nltk.word_tokenize)"
   ]
  },
  {
   "cell_type": "code",
   "execution_count": 6,
   "metadata": {},
   "outputs": [],
   "source": [
    "index = {}\n",
    "\n",
    "for i in range(len(tokens)):\n",
    "    id_noticia = ids[i]\n",
    "    palavras = tokens[i]\n",
    "    for palavra in palavras:\n",
    "        if palavra not in index:\n",
    "            index[palavra] = [id_noticia]\n",
    "        elif id_noticia not in index[palavra]:\n",
    "            index[palavra].append(id_noticia)"
   ]
  },
  {
   "cell_type": "code",
   "execution_count": 9,
   "metadata": {},
   "outputs": [],
   "source": [
    "def busca_and(termo1, termo2=None):\n",
    "    ids_termo1 = index[termo1]\n",
    "    ids_termo2 = index[termo2] if termo2 else []\n",
    "    \n",
    "    tam_term1 = len(ids_termo1)\n",
    "    tam_term2 = len(ids_termo2)\n",
    "    \n",
    "    pos1 = 0\n",
    "    pos2 = 0\n",
    "    \n",
    "    ids = []\n",
    "    while pos1 < tam_term1 and pos2 < tam_term2:\n",
    "        if ids_termo1[pos1] == ids_termo2[pos2]:\n",
    "            ids.append(ids_termo1[pos1])\n",
    "            pos1 += 1\n",
    "            pos2 += 1\n",
    "        elif ids_termo1[pos1] > ids_termo2[pos2]:\n",
    "            pos2 += 1\n",
    "        else:\n",
    "            pos1 += 1\n",
    "    \n",
    "    return ids\n"
   ]
  },
  {
   "cell_type": "code",
   "execution_count": 19,
   "metadata": {
    "scrolled": true
   },
   "outputs": [
    {
     "data": {
      "text/plain": [
       "[1068, 1370, 1770, 1952, 1987, 2763, 2777, 2779, 4802, 5382, 5870, 6694]"
      ]
     },
     "execution_count": 19,
     "metadata": {},
     "output_type": "execute_result"
    }
   ],
   "source": [
    "busca_and('Campina', 'Grande')"
   ]
  }
 ],
 "metadata": {
  "kernelspec": {
   "display_name": "Python 3",
   "language": "python",
   "name": "python3"
  },
  "language_info": {
   "codemirror_mode": {
    "name": "ipython",
    "version": 3
   },
   "file_extension": ".py",
   "mimetype": "text/x-python",
   "name": "python",
   "nbconvert_exporter": "python",
   "pygments_lexer": "ipython3",
   "version": "3.6.3"
  }
 },
 "nbformat": 4,
 "nbformat_minor": 2
}
