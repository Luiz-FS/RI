{
 "cells": [
  {
   "cell_type": "code",
   "execution_count": 1,
   "metadata": {},
   "outputs": [],
   "source": [
    "import pandas as pd\n",
    "import numpy as np\n",
    "import nltk\n",
    "import re\n",
    "import math\n",
    "import ast\n",
    "from unicodedata import normalize\n",
    "from collections import Counter"
   ]
  },
  {
   "cell_type": "code",
   "execution_count": 2,
   "metadata": {},
   "outputs": [],
   "source": [
    "gabarito = pd.read_csv('gabarito/gabarito.csv')\n",
    "dados = pd.read_csv('data/estadao_noticias_eleicao.csv')"
   ]
  },
  {
   "cell_type": "markdown",
   "metadata": {},
   "source": [
    "# Função para converter string em lista\n",
    "Essa função converta uma string que tem o formato de uma lista em um objeto do tipo lista."
   ]
  },
  {
   "cell_type": "code",
   "execution_count": 3,
   "metadata": {},
   "outputs": [],
   "source": [
    "def convert_str_in_lst(lista):\n",
    "    return ast.literal_eval(lista)"
   ]
  },
  {
   "cell_type": "markdown",
   "metadata": {},
   "source": [
    "# Convertendo células do dataframe do gabarito\n",
    "Todas as células do dataframe precisaram ser convertidas, pois ao serem lidas estão no formato de string e não de lista como deveria ser, assim, fiz a conversão das strings em listas."
   ]
  },
  {
   "cell_type": "code",
   "execution_count": 4,
   "metadata": {},
   "outputs": [],
   "source": [
    "gabarito.google = gabarito.google.apply(convert_str_in_lst)\n",
    "gabarito.busca_binaria = gabarito.busca_binaria.apply(convert_str_in_lst)\n",
    "gabarito.tf = gabarito.tf.apply(convert_str_in_lst)\n",
    "gabarito.tfidf = gabarito.tfidf.apply(convert_str_in_lst)\n",
    "gabarito.bm25 = gabarito.bm25.apply(convert_str_in_lst)\n"
   ]
  },
  {
   "cell_type": "markdown",
   "metadata": {},
   "source": [
    "# Removendo NAN\n",
    "Alguns documentos possuem valores NAN no conteúdo da célula no dataframe, isso prejudica na hora de gerar os tokens para criar o índice. Portanto, substitui todas as células do dataframe que tinha NAN por ''."
   ]
  },
  {
   "cell_type": "code",
   "execution_count": 5,
   "metadata": {},
   "outputs": [],
   "source": [
    "dados = dados.replace(np.nan, '', regex=True)"
   ]
  },
  {
   "cell_type": "markdown",
   "metadata": {},
   "source": [
    "# Função para limpar o texto\n",
    "Essa Função remove todos os caracteres especiais do texto bem como sua acentuação."
   ]
  },
  {
   "cell_type": "code",
   "execution_count": 6,
   "metadata": {},
   "outputs": [],
   "source": [
    "def limpar_texto(texto):\n",
    "    pattern = re.compile('[^a-zA-Z0-9 ]')\n",
    "    texto = normalize('NFKD', texto).encode('ASCII', 'ignore').decode('ASCII')\n",
    "    return pattern.sub(' ', texto)"
   ]
  },
  {
   "cell_type": "markdown",
   "metadata": {},
   "source": [
    "# Join do conteúdo\n",
    "Juntando os títulos das notícias com seus respectivos subtítulos e conteúdos, e também removendo das nóticias os caracteres especiais e a acentuação para posteriomente facilitar a tokenização."
   ]
  },
  {
   "cell_type": "code",
   "execution_count": 7,
   "metadata": {},
   "outputs": [],
   "source": [
    "materias = dados.titulo + \" \" + dados.subTitulo +  \" \" + dados.conteudo\n",
    "materias = materias.apply(lambda texto: limpar_texto(texto).lower())\n",
    "ids = dados.idNoticia\n",
    "    "
   ]
  },
  {
   "cell_type": "markdown",
   "metadata": {},
   "source": [
    "# Tokenizando conteúdo\n",
    "Criando tokens com cada palavra do texto para que posteriormente possam ser indexadas e associadas aos respectivos ids das notícias, e contando a frequência de cada termo no texto."
   ]
  },
  {
   "cell_type": "code",
   "execution_count": 8,
   "metadata": {},
   "outputs": [],
   "source": [
    "tokens = materias.apply(nltk.word_tokenize)\n",
    "term_frequence = tokens.apply(Counter)"
   ]
  },
  {
   "cell_type": "markdown",
   "metadata": {},
   "source": [
    "# Indexando tokens\n",
    "Criando indices invertidos com os tokens para poder aplicar os métodos de busca."
   ]
  },
  {
   "cell_type": "code",
   "execution_count": 9,
   "metadata": {},
   "outputs": [],
   "source": [
    "index = {}\n",
    "\n",
    "for i in range(len(tokens)):\n",
    "    id_noticia = ids[i]\n",
    "    palavras = tokens[i]\n",
    "    for palavra in palavras:\n",
    "        palavra = palavra.lower()\n",
    "        if palavra not in index:\n",
    "            index[palavra] = {}\n",
    "        \n",
    "        id_rec = index[palavra].get(id_noticia)\n",
    "        \n",
    "        if not id_rec:\n",
    "            docs = index[palavra]\n",
    "            docs[id_noticia] = term_frequence[i][palavra]"
   ]
  },
  {
   "cell_type": "markdown",
   "metadata": {},
   "source": [
    "# Método que gera um dicionário com vetores de pesos\n",
    "Este método gera uma dicionário cujas chaves são os ids documentos que contém os termos pesquisados e os valores são vetores que contem o peso de cada termo nos documentos, esse vetor pode ser binário ou por TF (Term Frequence)."
   ]
  },
  {
   "cell_type": "code",
   "execution_count": 10,
   "metadata": {},
   "outputs": [],
   "source": [
    "def gera_docs_peso(frase, gerador_peso):\n",
    "    termos = frase.split(\" \")\n",
    "    docs_peso = {}\n",
    "    \n",
    "    for i in range(len(termos)):\n",
    "        termo = termos[i]\n",
    "        docs = index[termo]\n",
    "        for doc_id in docs:\n",
    "            tf = docs[doc_id]\n",
    "            \n",
    "            if doc_id not in docs_peso:\n",
    "                docs_peso[doc_id] = np.array([0 if j != i else gerador_peso(tf) for j in range(len(termos))])\n",
    "            else:\n",
    "                doc_vector = docs_peso[doc_id]\n",
    "                docs_peso[doc_id] = np.array([doc_vector[j] if j != i else gerador_peso(tf) for j in range(len(termos))])\n",
    "    \n",
    "    return docs_peso\n"
   ]
  },
  {
   "cell_type": "markdown",
   "metadata": {},
   "source": [
    "# Método que gera um dicionário com vetores binários da consulta\n",
    "Este método gera uma dicionário cujas chaves são os ids documentos que contém os termos pesquisados e os valores são vetores que contem o peso binário de cada termo nos documentos, usando como método base o método gera_docs_peso."
   ]
  },
  {
   "cell_type": "code",
   "execution_count": 11,
   "metadata": {},
   "outputs": [],
   "source": [
    "def gera_vetor_binario(frase):\n",
    "    def gerador_peso(tf):\n",
    "        return 1\n",
    "    return gera_docs_peso(frase, gerador_peso)"
   ]
  },
  {
   "cell_type": "markdown",
   "metadata": {},
   "source": [
    "# Método que gera um dicionário com vetores TF da consulta\n",
    "Este método gera uma dicionário cujas chaves são os ids documentos que contém os termos pesquisados e os valores são vetores que contem o peso em TF de cada termo nos documentos, usando como método base o método gera_docs_peso."
   ]
  },
  {
   "cell_type": "code",
   "execution_count": 12,
   "metadata": {},
   "outputs": [],
   "source": [
    "def gera_tf_vetor(frase):\n",
    "    def gerador_peso(tf):\n",
    "        return tf\n",
    "    return gera_docs_peso(frase, gerador_peso)"
   ]
  },
  {
   "cell_type": "markdown",
   "metadata": {},
   "source": [
    "# Método que gera um vetor contendo o IDF de cada termo\n",
    "Este método calcula o IDF de cada termo e armazena em um vetor onde cada índice é o IDF de um dos termos."
   ]
  },
  {
   "cell_type": "code",
   "execution_count": 13,
   "metadata": {},
   "outputs": [],
   "source": [
    "def gera_idf_vetor(frase):\n",
    "    termos = frase.split(\" \")\n",
    "    idf_vector = np.array([math.log((len(materias)+1)/len(index[termo])) for termo in termos])\n",
    "    return idf_vector"
   ]
  },
  {
   "cell_type": "markdown",
   "metadata": {},
   "source": [
    "# Método que gera um vetor binário da consulta\n",
    "Este método verifica se cada termo existe no indice e gera uma vetor binpario onde cada indice do vetor assume o valor de 0 se não existir ou 1 se existir."
   ]
  },
  {
   "cell_type": "code",
   "execution_count": 14,
   "metadata": {},
   "outputs": [],
   "source": [
    "def gera_query_vetor(frase):\n",
    "    termos = frase.split(\" \")\n",
    "    vetor = np.array([1 if index.get(termo) else 0 for termo in termos])\n",
    "    return vetor"
   ]
  },
  {
   "cell_type": "markdown",
   "metadata": {},
   "source": [
    "# Método que gera um dicionário com vetores BMF25 da consulta\n",
    "Este método gera uma dicionário cujas chaves são os ids documentos que contém os termos pesquisados e os valores são vetores que contem o peso em BMF25 de cada termo nos documentos, usando como método base o método gera_tf_vetor."
   ]
  },
  {
   "cell_type": "code",
   "execution_count": 15,
   "metadata": {},
   "outputs": [],
   "source": [
    "def gera_bm25_vetor(frase):\n",
    "    docs_tf = gera_tf_vetor(frase)\n",
    "    k = 5\n",
    "    bm25_vetor = {doc_id: np.array([((k+1)*tf)/(tf+k) for tf in tf_vetor]) for doc_id, tf_vetor in docs_tf.items()}\n",
    "    return bm25_vetor"
   ]
  },
  {
   "cell_type": "markdown",
   "metadata": {},
   "source": [
    "# Busca genérica\n",
    "Este método encapsula as partes em comum de todos os métodos de busca implementados para evitar repetição de código."
   ]
  },
  {
   "cell_type": "code",
   "execution_count": 16,
   "metadata": {},
   "outputs": [],
   "source": [
    "def busca(frase, gerador_query, gerador_doc_vetor):\n",
    "    docs_peso = gerador_doc_vetor(frase)\n",
    "    query = gerador_query(frase)\n",
    "    \n",
    "    doc_rank = sorted(list(docs_peso.items()), key=lambda doc: np.dot(doc[1], query), reverse=True)[:5] \n",
    "    return [doc[0] for doc in doc_rank]\n",
    "    "
   ]
  },
  {
   "cell_type": "markdown",
   "metadata": {},
   "source": [
    "# Busca binária\n",
    "Busca vetorial pelo método binário."
   ]
  },
  {
   "cell_type": "code",
   "execution_count": 17,
   "metadata": {},
   "outputs": [],
   "source": [
    "def busca_binaria(frase):\n",
    "    return busca(frase, gera_query_vetor, gera_vetor_binario)"
   ]
  },
  {
   "cell_type": "markdown",
   "metadata": {},
   "source": [
    "# Busca por term frequence (TF)\n",
    "Busca vetorial pelo método TF."
   ]
  },
  {
   "cell_type": "code",
   "execution_count": 18,
   "metadata": {},
   "outputs": [],
   "source": [
    "def buscar_por_tf(frase):\n",
    "    return busca(frase, gera_query_vetor, gera_tf_vetor)"
   ]
  },
  {
   "cell_type": "markdown",
   "metadata": {},
   "source": [
    "# Busca por TF-IDF (Inverse Document Frequency)\n",
    "Busca vetorial pelo método TF-IDF."
   ]
  },
  {
   "cell_type": "code",
   "execution_count": 19,
   "metadata": {},
   "outputs": [],
   "source": [
    "def buscar_por_tf_idf(frase):\n",
    "    return busca(frase, gera_idf_vetor, gera_tf_vetor)"
   ]
  },
  {
   "cell_type": "markdown",
   "metadata": {},
   "source": [
    "# Busca por BM25\n",
    "Busca vetorial pleo método BM25."
   ]
  },
  {
   "cell_type": "code",
   "execution_count": 20,
   "metadata": {},
   "outputs": [],
   "source": [
    "def buscar_por_bm25(frase):\n",
    "    return busca(frase, gera_idf_vetor, gera_bm25_vetor)"
   ]
  },
  {
   "cell_type": "markdown",
   "metadata": {},
   "source": [
    "# Função para verificar precisão\n",
    "Esta função verifica a precisão dos resultados retornados pelos algoritmos de busca implementados."
   ]
  },
  {
   "cell_type": "code",
   "execution_count": 21,
   "metadata": {},
   "outputs": [],
   "source": [
    "def apk(actual, predicted, k=10):\n",
    "    \"\"\"\n",
    "    Computes the average precision at k.\n",
    "    This function computes the average prescision at k between two lists of\n",
    "    items.\n",
    "    Parameters\n",
    "    ----------\n",
    "    actual : list\n",
    "             A list of elements that are to be predicted (order doesn't matter)\n",
    "    predicted : list\n",
    "                A list of predicted elements (order does matter)\n",
    "    k : int, optional\n",
    "        The maximum number of predicted elements\n",
    "    Returns\n",
    "    -------\n",
    "    score : double\n",
    "            The average precision at k over the input lists\n",
    "    \"\"\"\n",
    "    if len(predicted)>k:\n",
    "        predicted = predicted[:k]\n",
    "\n",
    "    score = 0.0\n",
    "    num_hits = 0.0\n",
    "\n",
    "    for i,p in enumerate(predicted):\n",
    "        if p in actual and p not in predicted[:i]:\n",
    "            num_hits += 1.0\n",
    "            score += num_hits / (i+1.0)\n",
    "\n",
    "    if not actual:\n",
    "        return 0.0\n",
    "\n",
    "    return score / min(len(actual), k)\n",
    "\n",
    "def mapk(actual, predicted, k=10):\n",
    "    \"\"\"\n",
    "    Computes the mean average precision at k.\n",
    "    This function computes the mean average prescision at k between two lists\n",
    "    of lists of items.\n",
    "    Parameters\n",
    "    ----------\n",
    "    actual : list\n",
    "             A list of lists of elements that are to be predicted \n",
    "             (order doesn't matter in the lists)\n",
    "    predicted : list\n",
    "                A list of lists of predicted elements\n",
    "                (order matters in the lists)\n",
    "    k : int, optional\n",
    "        The maximum number of predicted elements\n",
    "    Returns\n",
    "    -------\n",
    "    score : double\n",
    "            The mean average precision at k over the input lists\n",
    "    \"\"\"\n",
    "    return np.mean([apk(a,p,k) for a,p in zip(actual, predicted)])"
   ]
  },
  {
   "cell_type": "markdown",
   "metadata": {},
   "source": [
    "# Análise de precisão da busca binária\n",
    "Analizando a precisão do método de busca binária em relação a busca do google e a do gabarito."
   ]
  },
  {
   "cell_type": "code",
   "execution_count": 22,
   "metadata": {},
   "outputs": [
    {
     "name": "stdout",
     "output_type": "stream",
     "text": [
      "Precisão gabarito busca binária: 0.240\n",
      "Precisão gabarito busca google: 0.040\n"
     ]
    }
   ],
   "source": [
    "busca_bin = [busca_binaria(limpar_texto(frase)) for frase in gabarito.str_busca]\n",
    "print(\"Precisão gabarito busca binária: %.3f\" %(mapk(gabarito.busca_binaria, busca_bin, k=5)))\n",
    "print(\"Precisão gabarito busca google: %.3f\" %(mapk(gabarito.google, busca_bin, k=5)))"
   ]
  },
  {
   "cell_type": "markdown",
   "metadata": {},
   "source": [
    "# Análise de precisão da busca por TF\n",
    "Analizando a precisão do método de busca por TF em relação a busca do google e a do gabarito."
   ]
  },
  {
   "cell_type": "code",
   "execution_count": 23,
   "metadata": {},
   "outputs": [
    {
     "name": "stdout",
     "output_type": "stream",
     "text": [
      "Precisão gabarito busca TF: 0.652\n",
      "Precisão gabarito busca google: 0.048\n"
     ]
    }
   ],
   "source": [
    "busca_tf = [buscar_por_tf(limpar_texto(frase)) for frase in gabarito.str_busca]\n",
    "print(\"Precisão gabarito busca TF: %.3f\" %(mapk(gabarito.tf, busca_tf, k=5)))\n",
    "print(\"Precisão gabarito busca google: %.3f\" %(mapk(gabarito.google, busca_tf, k=5)))"
   ]
  },
  {
   "cell_type": "markdown",
   "metadata": {},
   "source": [
    "# Análise de precisão da busca por TF-IDF\n",
    "Analizando a precisão do método de busca por TF-IDF em relação a busca do google e a do gabarito."
   ]
  },
  {
   "cell_type": "code",
   "execution_count": 24,
   "metadata": {},
   "outputs": [
    {
     "name": "stdout",
     "output_type": "stream",
     "text": [
      "Precisão gabarito busca TF-IDF: 0.616\n",
      "Precisão gabarito busca google: 0.058\n"
     ]
    }
   ],
   "source": [
    "busca_tfidf = [buscar_por_tf_idf(limpar_texto(frase)) for frase in gabarito.str_busca]\n",
    "print(\"Precisão gabarito busca TF-IDF: %.3f\" %(mapk(gabarito.tfidf, busca_tfidf, k=5)))\n",
    "print(\"Precisão gabarito busca google: %.3f\" %(mapk(gabarito.google, busca_tfidf, k=5)))"
   ]
  },
  {
   "cell_type": "markdown",
   "metadata": {},
   "source": [
    "# Análise de precisão da busca por BM25\n",
    "Analizando a precisão do método de busca por BM25 em relação a busca do google e a do gabarito."
   ]
  },
  {
   "cell_type": "code",
   "execution_count": 25,
   "metadata": {
    "scrolled": true
   },
   "outputs": [
    {
     "name": "stdout",
     "output_type": "stream",
     "text": [
      "Precisão gabarito busca BM25: 0.754\n",
      "Precisão gabarito busca google: 0.128\n"
     ]
    }
   ],
   "source": [
    "busca_bm25 = [buscar_por_bm25(limpar_texto(frase)) for frase in gabarito.str_busca]\n",
    "print(\"Precisão gabarito busca BM25: %.3f\" %(mapk(gabarito.bm25, busca_bm25, k=5)))\n",
    "print(\"Precisão gabarito busca google: %.3f\" %(mapk(gabarito.google, busca_bm25, k=5)))"
   ]
  }
 ],
 "metadata": {
  "kernelspec": {
   "display_name": "Python 3",
   "language": "python",
   "name": "python3"
  },
  "language_info": {
   "codemirror_mode": {
    "name": "ipython",
    "version": 3
   },
   "file_extension": ".py",
   "mimetype": "text/x-python",
   "name": "python",
   "nbconvert_exporter": "python",
   "pygments_lexer": "ipython3",
   "version": "3.6.5"
  }
 },
 "nbformat": 4,
 "nbformat_minor": 2
}
