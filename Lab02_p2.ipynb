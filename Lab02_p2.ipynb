{
 "cells": [
  {
   "cell_type": "code",
   "execution_count": 1,
   "metadata": {},
   "outputs": [],
   "source": [
    "import pandas as pd\n",
    "import numpy as np"
   ]
  },
  {
   "cell_type": "code",
   "execution_count": 2,
   "metadata": {},
   "outputs": [],
   "source": [
    "data = pd.read_csv('data/soc-sign-bitcoinotc.csv')"
   ]
  },
  {
   "cell_type": "code",
   "execution_count": 3,
   "metadata": {},
   "outputs": [],
   "source": [
    "filtered_data = data.query('Evaluation >= 8')\n",
    "source = list(filtered_data.Source)\n",
    "target = list(filtered_data.Target)\n",
    "nodes = list(set(source).union(set(target)))"
   ]
  },
  {
   "cell_type": "code",
   "execution_count": 4,
   "metadata": {},
   "outputs": [],
   "source": [
    "adjacence_dict = {no:[] for no in nodes}\n",
    "\n",
    "for index in range(len(source)):\n",
    "    ori = source[index]\n",
    "    dest = target[index]\n",
    "    \n",
    "    adjacence_dict[ori].append(dest)"
   ]
  },
  {
   "cell_type": "code",
   "execution_count": 5,
   "metadata": {},
   "outputs": [],
   "source": [
    "a = [[0 for i in range(len(nodes))] for j in range(len(nodes))]\n",
    "\n",
    "for i in range(len(nodes)):\n",
    "    for j in range(len(nodes)):\n",
    "        ori = nodes[i]\n",
    "        dest = nodes[j]\n",
    "        out_degree = len(adjacence_dict[ori])\n",
    "        a[j][i] = 1/out_degree if dest in adjacence_dict[ori] else 0\n",
    "\n",
    "a = np.matrix(a)"
   ]
  },
  {
   "cell_type": "code",
   "execution_count": 6,
   "metadata": {},
   "outputs": [],
   "source": [
    "b = (1/len(nodes)) * np.matrix([[1 for i in range(len(nodes))] for j in range(len(nodes))])"
   ]
  },
  {
   "cell_type": "code",
   "execution_count": 7,
   "metadata": {},
   "outputs": [],
   "source": [
    "m = 0.85 * a + 0.15 * b"
   ]
  },
  {
   "cell_type": "code",
   "execution_count": 8,
   "metadata": {},
   "outputs": [],
   "source": [
    "v = (1/len(nodes)) * np.matrix([[1] for i in range(len(nodes))])"
   ]
  },
  {
   "cell_type": "markdown",
   "metadata": {},
   "source": [
    "# Fórmula do pagerank\n",
    "## $PR(A) = \\frac{PR(B)}{L(B)} + \\frac{PR(C)}{L(C)} + \\frac{PR(D)}{L(D)}... \\Rightarrow PR(u) = \\sum_{v \\in B_u} \\frac{PR(B(v))}{L(v)}$"
   ]
  },
  {
   "cell_type": "code",
   "execution_count": 9,
   "metadata": {},
   "outputs": [],
   "source": [
    "count = 0\n",
    "\n",
    "def pagerank(v):\n",
    "    global count\n",
    "    count += 1\n",
    "    \n",
    "    if sum(abs(m*v-v)) > 0.001:\n",
    "        return pagerank(m*v)\n",
    "    return m*v"
   ]
  },
  {
   "cell_type": "code",
   "execution_count": 10,
   "metadata": {},
   "outputs": [],
   "source": [
    "result = pagerank(v)\n",
    "result = [cell.item(0,0) for cell in result]"
   ]
  },
  {
   "cell_type": "code",
   "execution_count": 11,
   "metadata": {},
   "outputs": [
    {
     "name": "stdout",
     "output_type": "stream",
     "text": [
      "35\n"
     ]
    }
   ],
   "source": [
    "print(count)"
   ]
  },
  {
   "cell_type": "code",
   "execution_count": 12,
   "metadata": {},
   "outputs": [],
   "source": [
    "result_data_frame = pd.DataFrame({'id': nodes, 'PageRank': result})"
   ]
  },
  {
   "cell_type": "code",
   "execution_count": 13,
   "metadata": {},
   "outputs": [],
   "source": [
    "result_data_frame.to_csv(path_or_buf='results/result.csv', index=False)\n",
    "filtered_data.to_csv(path_or_buf='results/filtered-sign-bitcoinotc.csv', columns=['Source', 'Target'], index=False)"
   ]
  }
 ],
 "metadata": {
  "kernelspec": {
   "display_name": "Python 3",
   "language": "python",
   "name": "python3"
  },
  "language_info": {
   "codemirror_mode": {
    "name": "ipython",
    "version": 3
   },
   "file_extension": ".py",
   "mimetype": "text/x-python",
   "name": "python",
   "nbconvert_exporter": "python",
   "pygments_lexer": "ipython3",
   "version": "3.6.5"
  }
 },
 "nbformat": 4,
 "nbformat_minor": 2
}
