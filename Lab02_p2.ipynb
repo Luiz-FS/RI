{
 "cells": [
  {
   "cell_type": "code",
   "execution_count": 33,
   "metadata": {},
   "outputs": [],
   "source": [
    "import pandas as pd\n",
    "import numpy as np"
   ]
  },
  {
   "cell_type": "markdown",
   "metadata": {},
   "source": [
    "# Tema: Análise do algoritmo PageRank\n",
    "## Autor: Luiz Fernando da Silva\n",
    "Neste laboratório analizarei o algoritmo PageRank da google aplicando o mesmo a uma base de dados de de links de invesidores de bitcoins, onde cada investidor recebe uma nota de acordo com outras pessoas que fizeram tranzações com eles. Após a aplicação do algoritmo as seguites perguntas serão respondidas.\n",
    "\n",
    "* Quantas iterações o PageRank precisou rodar até atingir convergência?\n",
    "* Quais os 5 investidores mais importantes segundo o PageRank? Quais seus valores de PageRank?\n",
    "* Como você poderia usar o PageRank caso você fosse um investidor em bitcoins?"
   ]
  },
  {
   "cell_type": "code",
   "execution_count": 34,
   "metadata": {},
   "outputs": [],
   "source": [
    "data = pd.read_csv('data/soc-sign-bitcoinotc.csv')"
   ]
  },
  {
   "cell_type": "markdown",
   "metadata": {},
   "source": [
    "# Filtrando dados\n",
    "Filtrando avaliações que possuem notas maiores ou iguais a 8."
   ]
  },
  {
   "cell_type": "code",
   "execution_count": 35,
   "metadata": {},
   "outputs": [],
   "source": [
    "filtered_data = data.query('Evaluation >= 8')\n",
    "source = list(filtered_data.Source)\n",
    "target = list(filtered_data.Target)\n",
    "nodes = list(set(source).union(set(target)))"
   ]
  },
  {
   "cell_type": "markdown",
   "metadata": {},
   "source": [
    "# Gerando matrix de adjacência\n",
    "Cada chava da matrix é um id de um usuário e o valor é a lista dos usuários que ele avaliou."
   ]
  },
  {
   "cell_type": "code",
   "execution_count": 36,
   "metadata": {},
   "outputs": [],
   "source": [
    "adjacence_dict = {no:[] for no in nodes}\n",
    "\n",
    "for index in range(len(source)):\n",
    "    ori = source[index]\n",
    "    dest = target[index]\n",
    "    \n",
    "    adjacence_dict[ori].append(dest)"
   ]
  },
  {
   "cell_type": "markdown",
   "metadata": {},
   "source": [
    "# Gerando matrix de transição"
   ]
  },
  {
   "cell_type": "code",
   "execution_count": 37,
   "metadata": {},
   "outputs": [],
   "source": [
    "a = [[0 for i in range(len(nodes))] for j in range(len(nodes))]\n",
    "\n",
    "for i in range(len(nodes)):\n",
    "    for j in range(len(nodes)):\n",
    "        ori = nodes[i]\n",
    "        dest = nodes[j]\n",
    "        out_degree = len(adjacence_dict[ori])\n",
    "        a[j][i] = 1/out_degree if dest in adjacence_dict[ori] else 0\n",
    "\n",
    "a = np.matrix(a)"
   ]
  },
  {
   "cell_type": "code",
   "execution_count": 38,
   "metadata": {},
   "outputs": [],
   "source": [
    "b = (1/len(nodes)) * np.matrix([[1 for i in range(len(nodes))] for j in range(len(nodes))])"
   ]
  },
  {
   "cell_type": "markdown",
   "metadata": {},
   "source": [
    "# Google Matrix\n",
    "Google matrix com fator pulo 0.15"
   ]
  },
  {
   "cell_type": "code",
   "execution_count": 39,
   "metadata": {},
   "outputs": [],
   "source": [
    "m = 0.85 * a + 0.15 * b"
   ]
  },
  {
   "cell_type": "markdown",
   "metadata": {},
   "source": [
    "# Vetor normalizado"
   ]
  },
  {
   "cell_type": "code",
   "execution_count": 40,
   "metadata": {},
   "outputs": [],
   "source": [
    "v = (1/len(nodes)) * np.matrix([[1] for i in range(len(nodes))])"
   ]
  },
  {
   "cell_type": "markdown",
   "metadata": {},
   "source": [
    "# Função para calcular o pagerank\n",
    "Este algoritmo calcula o page rank de cada nó de acordo com a fórmula: $PR(A) = \\frac{PR(B)}{L(B)} + \\frac{PR(C)}{L(C)} + \\frac{PR(D)}{L(D)}... \\Rightarrow PR(u) = \\sum_{v \\in B_u} \\frac{PR(B(v))}{L(v)}$, onde PR(...) é o pagerank de um dado nó, L(...) é a quantidade de links que saem do nó, A, B, C, D, u, são nós quaisquer de um grafo e B(v) é um nó do grafo que tem link com o nó u."
   ]
  },
  {
   "cell_type": "code",
   "execution_count": 41,
   "metadata": {},
   "outputs": [],
   "source": [
    "count = 0\n",
    "\n",
    "def pagerank(v):\n",
    "    global count\n",
    "    count += 1\n",
    "    \n",
    "    if sum(abs(m*v-v)) > 0.001:\n",
    "        return pagerank(m*v)\n",
    "    return m*v"
   ]
  },
  {
   "cell_type": "markdown",
   "metadata": {},
   "source": [
    "# Calculando pagerank\n",
    "Usando o método de calcular o pagerank para gerar pagerank de cada nó da base de dados filtrada."
   ]
  },
  {
   "cell_type": "code",
   "execution_count": 42,
   "metadata": {},
   "outputs": [],
   "source": [
    "result = pagerank(v)\n",
    "result = [cell.item(0,0) for cell in result]"
   ]
  },
  {
   "cell_type": "markdown",
   "metadata": {},
   "source": [
    "# Número de iterações necessárias para gerar o pagerank"
   ]
  },
  {
   "cell_type": "code",
   "execution_count": 43,
   "metadata": {},
   "outputs": [
    {
     "name": "stdout",
     "output_type": "stream",
     "text": [
      "35\n"
     ]
    }
   ],
   "source": [
    "print(count)"
   ]
  },
  {
   "cell_type": "markdown",
   "metadata": {},
   "source": [
    "# Criando data frame\n",
    "Criando data frame com o resultado do pagerank de cada nó para posteriormente salvar em um arquivo csv."
   ]
  },
  {
   "cell_type": "code",
   "execution_count": 44,
   "metadata": {},
   "outputs": [
    {
     "data": {
      "text/html": [
       "<div>\n",
       "<style scoped>\n",
       "    .dataframe tbody tr th:only-of-type {\n",
       "        vertical-align: middle;\n",
       "    }\n",
       "\n",
       "    .dataframe tbody tr th {\n",
       "        vertical-align: top;\n",
       "    }\n",
       "\n",
       "    .dataframe thead th {\n",
       "        text-align: right;\n",
       "    }\n",
       "</style>\n",
       "<table border=\"1\" class=\"dataframe\">\n",
       "  <thead>\n",
       "    <tr style=\"text-align: right;\">\n",
       "      <th></th>\n",
       "      <th>id</th>\n",
       "      <th>PageRank</th>\n",
       "    </tr>\n",
       "  </thead>\n",
       "  <tbody>\n",
       "    <tr>\n",
       "      <th>0</th>\n",
       "      <td>1</td>\n",
       "      <td>0.000139</td>\n",
       "    </tr>\n",
       "    <tr>\n",
       "      <th>120</th>\n",
       "      <td>202</td>\n",
       "      <td>0.000125</td>\n",
       "    </tr>\n",
       "    <tr>\n",
       "      <th>94</th>\n",
       "      <td>144</td>\n",
       "      <td>0.000117</td>\n",
       "    </tr>\n",
       "    <tr>\n",
       "      <th>887</th>\n",
       "      <td>3996</td>\n",
       "      <td>0.000093</td>\n",
       "    </tr>\n",
       "    <tr>\n",
       "      <th>182</th>\n",
       "      <td>361</td>\n",
       "      <td>0.000092</td>\n",
       "    </tr>\n",
       "  </tbody>\n",
       "</table>\n",
       "</div>"
      ],
      "text/plain": [
       "       id  PageRank\n",
       "0       1  0.000139\n",
       "120   202  0.000125\n",
       "94    144  0.000117\n",
       "887  3996  0.000093\n",
       "182   361  0.000092"
      ]
     },
     "execution_count": 44,
     "metadata": {},
     "output_type": "execute_result"
    }
   ],
   "source": [
    "result_data_frame = pd.DataFrame({'id': nodes, 'PageRank': result})\n",
    "result_data_frame.sort_values('PageRank', ascending=False).take(range(5))"
   ]
  },
  {
   "cell_type": "markdown",
   "metadata": {},
   "source": [
    "# Salvando resultados\n",
    "Salvando data frame de resultados e o data frame de nós filtrados em um arquivo csv."
   ]
  },
  {
   "cell_type": "code",
   "execution_count": 45,
   "metadata": {},
   "outputs": [],
   "source": [
    "result_data_frame.to_csv(path_or_buf='results/result.csv', index=False)\n",
    "filtered_data.to_csv(path_or_buf='results/filtered-sign-bitcoinotc.csv', columns=['Source', 'Target'], index=False)"
   ]
  },
  {
   "cell_type": "markdown",
   "metadata": {},
   "source": [
    "# Análise dos resultados\n",
    "\n",
    "* **Quantas iterações o PageRank precisou rodar até atingir convergência?**\n",
    "> Foram necessárias 35 iterações até o algoritmo atingir a converegência.\n",
    "* **Quais os 5 investidores mais importantes segundo o PageRank? Quais seus valores de PageRank?**\n",
    "\n",
    "|  id   | PageRanck |\n",
    "|:-----:|:---------:|\n",
    "|   1   | 0.000139  |\n",
    "|  202  | 0.000125  |\n",
    "|  144  | 0.000117  |\n",
    "| 3996  | 0.000093  |\n",
    "|  361  | 0.000092  |\n",
    "\n",
    "* **Como você poderia usar o PageRank caso você fosse um investidor em bitcoins?**\n",
    "> Usando os resultados obtidos pelo pagerank é possível analisar o risco de uma tranação com determinado investidor ser fraudulenta ou não\n"
   ]
  }
 ],
 "metadata": {
  "kernelspec": {
   "display_name": "Python 3",
   "language": "python",
   "name": "python3"
  },
  "language_info": {
   "codemirror_mode": {
    "name": "ipython",
    "version": 3
   },
   "file_extension": ".py",
   "mimetype": "text/x-python",
   "name": "python",
   "nbconvert_exporter": "python",
   "pygments_lexer": "ipython3",
   "version": "3.6.5"
  }
 },
 "nbformat": 4,
 "nbformat_minor": 2
}
